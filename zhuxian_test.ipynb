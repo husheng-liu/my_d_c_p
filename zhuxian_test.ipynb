{
 "cells": [
  {
   "cell_type": "code",
   "execution_count": 1,
   "metadata": {},
   "outputs": [],
   "source": [
    "from gym.spaces import Box, Dict, Discrete, MultiDiscrete, Tuple\n",
    "import numpy as np\n",
    "import unittest\n",
    "\n",
    "import ray\n",
    "from ray.tune import register_env\n",
    "from ray.rllib.algorithms.qmix import QMixConfig\n",
    "from ray.rllib.env.multi_agent_env import MultiAgentEnv\n",
    "from smac.env import StarCraft2Env\n",
    "import numpy as np"
   ]
  },
  {
   "cell_type": "code",
   "execution_count": 2,
   "metadata": {},
   "outputs": [
    {
     "name": "stderr",
     "output_type": "stream",
     "text": [
      "Version: B75689 (SC2.4.10)\n",
      "Build: Aug 12 2019 17:16:57\n",
      "Command Line: '\"/home/jovyan/code/pymarl/3rdparty/StarCraftII/Versions/Base75689/SC2_x64\" -listen 127.0.0.1 -port 38299 -dataDir /home/jovyan/code/pymarl/3rdparty/StarCraftII/ -tempDir /tmp/sc-uez6ge3z/'\n",
      "Starting up...\n",
      "Startup Phase 1 complete\n",
      "Startup Phase 2 complete\n",
      "Creating stub renderer...\n",
      "Listening on: 127.0.0.1:38299\n",
      "Startup Phase 3 complete. Ready for commands.\n",
      "ConnectHandler: Request from 127.0.0.1:48494 accepted\n",
      "ReadyHandler: 127.0.0.1:48494 ready\n",
      "Requesting to join a single player game\n",
      "Configuring interface options\n",
      "Configure: raw interface enabled\n",
      "Configure: feature layer interface disabled\n",
      "Configure: score interface disabled\n",
      "Configure: render interface disabled\n",
      "Launching next game.\n",
      "Next launch phase started: 2\n",
      "Next launch phase started: 3\n",
      "Next launch phase started: 4\n",
      "Next launch phase started: 5\n",
      "Next launch phase started: 6\n",
      "Next launch phase started: 7\n",
      "Next launch phase started: 8\n",
      "Game has started.\n",
      "Using default stable ids, none found at: /home/jovyan/code/pymarl/3rdparty/StarCraftII/stableid.json\n",
      "Successfully loaded stable ids: GameData\\stableid.json\n",
      "Sending ResponseJoinGame\n"
     ]
    },
    {
     "name": "stdout",
     "output_type": "stream",
     "text": [
      "Total reward in episode 0 = 2.0625\n",
      "Total reward in episode 1 = 1.875\n",
      "Total reward in episode 2 = 1.6875\n",
      "Total reward in episode 3 = 2.25\n",
      "Total reward in episode 4 = 1.125\n",
      "Total reward in episode 5 = 1.3125\n",
      "Total reward in episode 6 = 2.4375\n",
      "Total reward in episode 7 = 1.125\n",
      "Total reward in episode 8 = 1.875\n",
      "Total reward in episode 9 = 1.6875\n"
     ]
    },
    {
     "name": "stderr",
     "output_type": "stream",
     "text": [
      "RequestQuit command received.\n",
      "Closing Application...\n",
      "DataHandler: unable to parse websocket frame.\n",
      "CloseHandler: 127.0.0.1:48494 disconnected\n"
     ]
    }
   ],
   "source": [
    "def test_sc():\n",
    "    env = StarCraft2Env(map_name=\"8m\")\n",
    "    env_info = env.get_env_info()\n",
    "\n",
    "    n_actions = env_info[\"n_actions\"]\n",
    "    n_agents = env_info[\"n_agents\"]\n",
    "\n",
    "    n_episodes = 10\n",
    "\n",
    "    for e in range(n_episodes):\n",
    "        env.reset()\n",
    "        terminated = False\n",
    "        episode_reward = 0\n",
    "\n",
    "        while not terminated:\n",
    "            obs = env.get_obs()\n",
    "            state = env.get_state()\n",
    "            # env.render()  # Uncomment for rendering\n",
    "\n",
    "            actions = []\n",
    "            for agent_id in range(n_agents):\n",
    "                avail_actions = env.get_avail_agent_actions(agent_id)\n",
    "                avail_actions_ind = np.nonzero(avail_actions)[0]\n",
    "                action = np.random.choice(avail_actions_ind)\n",
    "                actions.append(action)\n",
    "\n",
    "            reward, terminated, _ = env.step(actions)\n",
    "            episode_reward += reward\n",
    "\n",
    "        print(\"Total reward in episode {} = {}\".format(e, episode_reward))\n",
    "\n",
    "    env.close()\n",
    "\n",
    "test_sc()"
   ]
  },
  {
   "cell_type": "code",
   "execution_count": 8,
   "metadata": {},
   "outputs": [],
   "source": [
    "env = StarCraft2Env(map_name=\"3m\")"
   ]
  },
  {
   "cell_type": "code",
   "execution_count": 9,
   "metadata": {},
   "outputs": [
    {
     "data": {
      "text/plain": [
       "{'state_shape': 48,\n",
       " 'obs_shape': 30,\n",
       " 'n_actions': 9,\n",
       " 'n_agents': 3,\n",
       " 'episode_limit': 60,\n",
       " 'agent_features': ['health', 'energy/cooldown', 'rel_x', 'rel_y'],\n",
       " 'enemy_features': ['health', 'rel_x', 'rel_y']}"
      ]
     },
     "execution_count": 9,
     "metadata": {},
     "output_type": "execute_result"
    }
   ],
   "source": [
    "env.get_env_info()"
   ]
  },
  {
   "cell_type": "code",
   "execution_count": null,
   "metadata": {},
   "outputs": [],
   "source": []
  },
  {
   "cell_type": "code",
   "execution_count": null,
   "metadata": {},
   "outputs": [],
   "source": []
  },
  {
   "cell_type": "code",
   "execution_count": 7,
   "metadata": {},
   "outputs": [
    {
     "name": "stderr",
     "output_type": "stream",
     "text": [
      "2022-10-17 15:53:10,819\tWARNING services.py:1882 -- WARNING: The object store is using /tmp instead of /dev/shm because /dev/shm has only 67104768 bytes available. This will harm performance! You may be able to free up space by deleting files in /dev/shm. If you are inside a Docker container, you can increase /dev/shm size by passing '--shm-size=10.24gb' to 'docker run' (or add it to the run_options list in a Ray cluster config). Make sure to set this to more than 30% of available RAM.\n",
      "2022-10-17 15:53:11,141\tINFO worker.py:1518 -- Started a local Ray instance.\n"
     ]
    },
    {
     "data": {
      "text/html": [
       "<div>\n",
       "    <div style=\"margin-left: 50px;display: flex;flex-direction: row;align-items: center\">\n",
       "        <h3 style=\"color: var(--jp-ui-font-color0)\">Ray</h3>\n",
       "        <svg version=\"1.1\" id=\"ray\" width=\"3em\" viewBox=\"0 0 144.5 144.6\" style=\"margin-left: 3em;margin-right: 3em\">\n",
       "            <g id=\"layer-1\">\n",
       "                <path fill=\"#00a2e9\" class=\"st0\" d=\"M97.3,77.2c-3.8-1.1-6.2,0.9-8.3,5.1c-3.5,6.8-9.9,9.9-17.4,9.6S58,88.1,54.8,81.2c-1.4-3-3-4-6.3-4.1\n",
       "                    c-5.6-0.1-9.9,0.1-13.1,6.4c-3.8,7.6-13.6,10.2-21.8,7.6C5.2,88.4-0.4,80.5,0,71.7c0.1-8.4,5.7-15.8,13.8-18.2\n",
       "                    c8.4-2.6,17.5,0.7,22.3,8c1.3,1.9,1.3,5.2,3.6,5.6c3.9,0.6,8,0.2,12,0.2c1.8,0,1.9-1.6,2.4-2.8c3.5-7.8,9.7-11.8,18-11.9\n",
       "                    c8.2-0.1,14.4,3.9,17.8,11.4c1.3,2.8,2.9,3.6,5.7,3.3c1-0.1,2,0.1,3,0c2.8-0.5,6.4,1.7,8.1-2.7s-2.3-5.5-4.1-7.5\n",
       "                    c-5.1-5.7-10.9-10.8-16.1-16.3C84,38,81.9,37.1,78,38.3C66.7,42,56.2,35.7,53,24.1C50.3,14,57.3,2.8,67.7,0.5\n",
       "                    C78.4-2,89,4.7,91.5,15.3c0.1,0.3,0.1,0.5,0.2,0.8c0.7,3.4,0.7,6.9-0.8,9.8c-1.7,3.2-0.8,5,1.5,7.2c6.7,6.5,13.3,13,19.8,19.7\n",
       "                    c1.8,1.8,3,2.1,5.5,1.2c9.1-3.4,17.9-0.6,23.4,7c4.8,6.9,4.6,16.1-0.4,22.9c-5.4,7.2-14.2,9.9-23.1,6.5c-2.3-0.9-3.5-0.6-5.1,1.1\n",
       "                    c-6.7,6.9-13.6,13.7-20.5,20.4c-1.8,1.8-2.5,3.2-1.4,5.9c3.5,8.7,0.3,18.6-7.7,23.6c-7.9,5-18.2,3.8-24.8-2.9\n",
       "                    c-6.4-6.4-7.4-16.2-2.5-24.3c4.9-7.8,14.5-11,23.1-7.8c3,1.1,4.7,0.5,6.9-1.7C91.7,98.4,98,92.3,104.2,86c1.6-1.6,4.1-2.7,2.6-6.2\n",
       "                    c-1.4-3.3-3.8-2.5-6.2-2.6C99.8,77.2,98.9,77.2,97.3,77.2z M72.1,29.7c5.5,0.1,9.9-4.3,10-9.8c0-0.1,0-0.2,0-0.3\n",
       "                    C81.8,14,77,9.8,71.5,10.2c-5,0.3-9,4.2-9.3,9.2c-0.2,5.5,4,10.1,9.5,10.3C71.8,29.7,72,29.7,72.1,29.7z M72.3,62.3\n",
       "                    c-5.4-0.1-9.9,4.2-10.1,9.7c0,0.2,0,0.3,0,0.5c0.2,5.4,4.5,9.7,9.9,10c5.1,0.1,9.9-4.7,10.1-9.8c0.2-5.5-4-10-9.5-10.3\n",
       "                    C72.6,62.3,72.4,62.3,72.3,62.3z M115,72.5c0.1,5.4,4.5,9.7,9.8,9.9c5.6-0.2,10-4.8,10-10.4c-0.2-5.4-4.6-9.7-10-9.7\n",
       "                    c-5.3-0.1-9.8,4.2-9.9,9.5C115,72.1,115,72.3,115,72.5z M19.5,62.3c-5.4,0.1-9.8,4.4-10,9.8c-0.1,5.1,5.2,10.4,10.2,10.3\n",
       "                    c5.6-0.2,10-4.9,9.8-10.5c-0.1-5.4-4.5-9.7-9.9-9.6C19.6,62.3,19.5,62.3,19.5,62.3z M71.8,134.6c5.9,0.2,10.3-3.9,10.4-9.6\n",
       "                    c0.5-5.5-3.6-10.4-9.1-10.8c-5.5-0.5-10.4,3.6-10.8,9.1c0,0.5,0,0.9,0,1.4c-0.2,5.3,4,9.8,9.3,10\n",
       "                    C71.6,134.6,71.7,134.6,71.8,134.6z\"/>\n",
       "            </g>\n",
       "        </svg>\n",
       "        <table>\n",
       "            <tr>\n",
       "                <td style=\"text-align: left\"><b>Python version:</b></td>\n",
       "                <td style=\"text-align: left\"><b>3.9.13</b></td>\n",
       "            </tr>\n",
       "            <tr>\n",
       "                <td style=\"text-align: left\"><b>Ray version:</b></td>\n",
       "                <td style=\"text-align: left\"><b> 2.0.0</b></td>\n",
       "            </tr>\n",
       "            \n",
       "        </table>\n",
       "    </div>\n",
       "</div>\n"
      ],
      "text/plain": [
       "RayContext(dashboard_url='', python_version='3.9.13', ray_version='2.0.0', ray_commit='cba26cc83f6b5b8a2ff166594a65cb74c0ec8740', address_info={'node_ip_address': '192.168.181.229', 'raylet_ip_address': '192.168.181.229', 'redis_address': None, 'object_store_address': '/tmp/ray/session_2022-10-17_15-53-08_879250_51097/sockets/plasma_store', 'raylet_socket_name': '/tmp/ray/session_2022-10-17_15-53-08_879250_51097/sockets/raylet', 'webui_url': '', 'session_dir': '/tmp/ray/session_2022-10-17_15-53-08_879250_51097', 'metrics_export_port': 59127, 'gcs_address': '192.168.181.229:50222', 'address': '192.168.181.229:50222', 'dashboard_agent_listen_port': 52365, 'node_id': 'db6e5355c83f9d5eb4a6030342d3202e6d1342d7a15e3f1f15074417'})"
      ]
     },
     "execution_count": 7,
     "metadata": {},
     "output_type": "execute_result"
    }
   ],
   "source": [
    "ray.init()"
   ]
  },
  {
   "cell_type": "code",
   "execution_count": null,
   "metadata": {},
   "outputs": [],
   "source": [
    "grouping = {\n",
    "    \"group_1\": [\"agent_1\", \"agent_2\"],\n",
    "}\n",
    "obs_space = Tuple(\n",
    "    [\n",
    "        AvailActionsTestEnv.observation_space,\n",
    "        AvailActionsTestEnv.observation_space,\n",
    "    ]\n",
    ")\n",
    "act_space = Tuple(\n",
    "    [AvailActionsTestEnv.action_space, AvailActionsTestEnv.action_space]\n",
    ")\n",
    "register_env(\n",
    "    \"action_mask_test\",\n",
    "    lambda config: AvailActionsTestEnv(config).with_agent_groups(\n",
    "        grouping, obs_space=obs_space, act_space=act_space\n",
    "    ),\n",
    ")\n",
    "\n",
    "config = (\n",
    "    QMixConfig()\n",
    "    .framework(framework=\"torch\")\n",
    "    .environment(\n",
    "        env=\"action_mask_test\",\n",
    "        env_config={\"avail_actions\": [3, 4, 8]},\n",
    "    )\n",
    "    .rollouts(num_envs_per_worker=5)\n",
    ")  # Test with vectorization on.\n",
    "\n",
    "trainer = config.build()\n",
    "\n",
    "for _ in range(4):\n",
    "    trainer.train()  # OK if it doesn't trip the action assertion error\n",
    "\n",
    "assert trainer.train()[\"episode_reward_mean\"] == 30.0\n",
    "trainer.stop()\n",
    "ray.shutdown()"
   ]
  },
  {
   "cell_type": "code",
   "execution_count": null,
   "metadata": {},
   "outputs": [],
   "source": []
  },
  {
   "cell_type": "code",
   "execution_count": null,
   "metadata": {},
   "outputs": [],
   "source": []
  }
 ],
 "metadata": {
  "kernelspec": {
   "display_name": "Python 3.9.13 ('rl': venv)",
   "language": "python",
   "name": "python3"
  },
  "language_info": {
   "codemirror_mode": {
    "name": "ipython",
    "version": 3
   },
   "file_extension": ".py",
   "mimetype": "text/x-python",
   "name": "python",
   "nbconvert_exporter": "python",
   "pygments_lexer": "ipython3",
   "version": "3.9.13"
  },
  "orig_nbformat": 4,
  "vscode": {
   "interpreter": {
    "hash": "b3cc6c39ebf32760448e1c3f6b77ff11baa4dc8eabc169990d1e37f010da6995"
   }
  }
 },
 "nbformat": 4,
 "nbformat_minor": 2
}
